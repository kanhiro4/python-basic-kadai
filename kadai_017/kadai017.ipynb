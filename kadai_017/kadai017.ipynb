{
  "nbformat": 4,
  "nbformat_minor": 0,
  "metadata": {
    "colab": {
      "provenance": []
    },
    "kernelspec": {
      "name": "python3",
      "display_name": "Python 3"
    },
    "language_info": {
      "name": "python"
    }
  },
  "cells": [
    {
      "cell_type": "code",
      "execution_count": 2,
      "metadata": {
        "colab": {
          "base_uri": "https://localhost:8080/"
        },
        "id": "iqGE-TeqjSs-",
        "outputId": "b1539b2a-c993-4e99-9c1f-705c9d25197b"
      },
      "outputs": [
        {
          "output_type": "stream",
          "name": "stdout",
          "text": [
            "大人ではありません\n"
          ]
        }
      ],
      "source": [
        "class Human:\n",
        "  def __init__(self, name, age):\n",
        "    self.name = name\n",
        "    self.age = age\n",
        "\n",
        "  def check_adult(self):\n",
        "   if self.age >= 20:\n",
        "    print(\"大人です\")\n",
        "   else :\n",
        "    print(\"大人ではありません\")\n",
        "\n",
        "\n",
        "human = Human(\"abc\", 30)\n",
        "\n",
        "human.check_adult()"
      ]
    }
  ]
}