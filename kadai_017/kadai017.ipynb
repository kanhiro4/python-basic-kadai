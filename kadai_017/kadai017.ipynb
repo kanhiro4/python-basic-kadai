{
  "cells": [
    {
      "cell_type": "code",
      "execution_count": 2,
      "metadata": {
        "colab": {
          "base_uri": "https://localhost:8080/"
        },
        "id": "iqGE-TeqjSs-",
        "outputId": "b1539b2a-c993-4e99-9c1f-705c9d25197b"
      },
      "outputs": [
        {
          "name": "stdout",
          "output_type": "stream",
          "text": [
            "大人ではありません\n"
          ]
        }
      ],
      "source": [
        "class Human:\n",
        "  def __init__(self, name, age):\n",
        "    self.name = name\n",
        "    self.age = age\n",
        "\n",
        "  def check_adult(self):\n",
        "   if self.age >= 20:\n",
        "    print(\"大人です\")\n",
        "   else :\n",
        "    print(\"大人ではありません\")\n",
        "\n",
        "human_list=[]\n",
        "\n",
        "for i in range(1, 25):\n",
        " human = Human(\"abc\", i)\n",
        " human_list.append(human)\n",
        "\n",
        "\n",
        "\n",
        "for i in human_list:\n",
        " i.check_adult()\n"
      ]
    }
  ],
  "metadata": {
    "colab": {
      "provenance": []
    },
    "kernelspec": {
      "display_name": "Python 3",
      "name": "python3"
    },
    "language_info": {
      "name": "python"
    }
  },
  "nbformat": 4,
  "nbformat_minor": 0
}
