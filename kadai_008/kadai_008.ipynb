{
  "nbformat": 4,
  "nbformat_minor": 0,
  "metadata": {
    "colab": {
      "provenance": []
    },
    "kernelspec": {
      "name": "python3",
      "display_name": "Python 3"
    },
    "language_info": {
      "name": "python"
    }
  },
  "cells": [
    {
      "cell_type": "code",
      "execution_count": null,
      "metadata": {
        "id": "-v-NasDs8CMB"
      },
      "outputs": [],
      "source": [
        "import random\n",
        "num = random.randint(0,100)\n",
        "\n",
        "if num % 3 ==0 and num % 5 ==0:\n",
        "  print(\"FizzBuzz\")\n",
        "elif num % 3 ==0:\n",
        "  print(\"Fizz\")\n",
        "elif num % 5 ==0:\n",
        "  print(\"Buzz\")\n",
        "else:\n",
        "  print(num)"
      ]
    }
  ]
}