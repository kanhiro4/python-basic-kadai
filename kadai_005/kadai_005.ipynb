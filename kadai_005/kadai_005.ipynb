{
  "nbformat": 4,
  "nbformat_minor": 0,
  "metadata": {
    "colab": {
      "provenance": []
    },
    "kernelspec": {
      "name": "python3",
      "display_name": "Python 3"
    },
    "language_info": {
      "name": "python"
    }
  },
  "cells": [
    {
      "cell_type": "code",
      "execution_count": 2,
      "metadata": {
        "colab": {
          "base_uri": "https://localhost:8080/"
        },
        "id": "hyViBYk5iIMe",
        "outputId": "3a814dfe-91f0-4dff-9288-06518196a647"
      },
      "outputs": [
        {
          "output_type": "stream",
          "name": "stdout",
          "text": [
            "台形の面積は75.0cm^2です\n"
          ]
        }
      ],
      "source": [
        "upper_base = 10\n",
        "bottom_base = 20\n",
        "height = 5\n",
        "\n",
        "square_measure = (upper_base + bottom_base) * height /2\n",
        "\n",
        "print(f\"台形の面積は{square_measure}cm^2です\")"
      ]
    }
  ]
}